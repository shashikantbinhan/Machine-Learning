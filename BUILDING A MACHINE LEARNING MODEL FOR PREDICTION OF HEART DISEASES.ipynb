{
 "cells": [
  {
   "cell_type": "markdown",
   "metadata": {},
   "source": [
    "# PREDICTION OF HEART DISEASE"
   ]
  },
  {
   "cell_type": "markdown",
   "metadata": {},
   "source": [
    "In this Machine Learning model, dataset has been collected from kagle (https://www.kaggle.com/ronitf/heart-disease-uci) and Machine Learning is used to make predictions on whether a person is suffering from Heart Disease or not."
   ]
  },
  {
   "cell_type": "markdown",
   "metadata": {},
   "source": [
    "### Importing Libraries"
   ]
  },
  {
   "cell_type": "code",
   "execution_count": 1,
   "metadata": {},
   "outputs": [],
   "source": [
    "import numpy as np \n",
    "import pandas as pd \n",
    "import matplotlib.pyplot as plt\n",
    "import seaborn as sns"
   ]
  },
  {
   "cell_type": "markdown",
   "metadata": {},
   "source": [
    "### Importing Machine Learning Libraries"
   ]
  },
  {
   "cell_type": "code",
   "execution_count": 2,
   "metadata": {},
   "outputs": [],
   "source": [
    "from sklearn.linear_model import LogisticRegression\n",
    "from sklearn.metrics import classification_report,confusion_matrix\n",
    "from sklearn.model_selection import train_test_split"
   ]
  },
  {
   "cell_type": "markdown",
   "metadata": {},
   "source": [
    "## Importing Dataset"
   ]
  },
  {
   "cell_type": "markdown",
   "metadata": {},
   "source": [
    "With the required libraries loaded, now we'll import the data from the file dataset.csv with the help of pandas read_csv method."
   ]
  },
  {
   "cell_type": "code",
   "execution_count": 3,
   "metadata": {},
   "outputs": [],
   "source": [
    "dataset = pd.read_csv('/Users/shashikantbinhan/Documents/IIM Shillong/X-Classes/TERM 4/DAP/ML Project /Building a ML model for predicting Heart Disease/dataset.csv')"
   ]
  },
  {
   "cell_type": "code",
   "execution_count": 4,
   "metadata": {},
   "outputs": [
    {
     "name": "stdout",
     "output_type": "stream",
     "text": [
      "Rows : 303\n",
      "\n",
      "Columns : 14\n",
      "\n",
      "Features : ['age', 'sex', 'cp', 'trestbps', 'chol', 'fbs', 'restecg', 'thalach', 'exang', 'oldpeak', 'slope', 'ca', 'thal', 'target']\n"
     ]
    }
   ],
   "source": [
    "print(\"Rows :\",dataset.shape[0])\n",
    "print(\"\\nColumns :\",dataset.shape[1])\n",
    "print(\"\\nFeatures :\",dataset.columns.tolist())"
   ]
  },
  {
   "cell_type": "code",
   "execution_count": 5,
   "metadata": {},
   "outputs": [
    {
     "name": "stdout",
     "output_type": "stream",
     "text": [
      "<class 'pandas.core.frame.DataFrame'>\n",
      "RangeIndex: 303 entries, 0 to 302\n",
      "Data columns (total 14 columns):\n",
      " #   Column    Non-Null Count  Dtype  \n",
      "---  ------    --------------  -----  \n",
      " 0   age       303 non-null    int64  \n",
      " 1   sex       303 non-null    int64  \n",
      " 2   cp        303 non-null    int64  \n",
      " 3   trestbps  303 non-null    int64  \n",
      " 4   chol      303 non-null    int64  \n",
      " 5   fbs       303 non-null    int64  \n",
      " 6   restecg   303 non-null    int64  \n",
      " 7   thalach   303 non-null    int64  \n",
      " 8   exang     303 non-null    int64  \n",
      " 9   oldpeak   303 non-null    float64\n",
      " 10  slope     303 non-null    int64  \n",
      " 11  ca        303 non-null    int64  \n",
      " 12  thal      303 non-null    int64  \n",
      " 13  target    303 non-null    int64  \n",
      "dtypes: float64(1), int64(13)\n",
      "memory usage: 33.3 KB\n"
     ]
    }
   ],
   "source": [
    "dataset.info()"
   ]
  },
  {
   "cell_type": "code",
   "execution_count": 6,
   "metadata": {
    "scrolled": true
   },
   "outputs": [
    {
     "data": {
      "text/plain": [
       "age         0\n",
       "sex         0\n",
       "cp          0\n",
       "trestbps    0\n",
       "chol        0\n",
       "fbs         0\n",
       "restecg     0\n",
       "thalach     0\n",
       "exang       0\n",
       "oldpeak     0\n",
       "slope       0\n",
       "ca          0\n",
       "thal        0\n",
       "target      0\n",
       "dtype: int64"
      ]
     },
     "execution_count": 6,
     "metadata": {},
     "output_type": "execute_result"
    }
   ],
   "source": [
    "dataset.isna().sum()"
   ]
  },
  {
   "cell_type": "code",
   "execution_count": 7,
   "metadata": {
    "scrolled": true
   },
   "outputs": [
    {
     "data": {
      "text/html": [
       "<div>\n",
       "<style scoped>\n",
       "    .dataframe tbody tr th:only-of-type {\n",
       "        vertical-align: middle;\n",
       "    }\n",
       "\n",
       "    .dataframe tbody tr th {\n",
       "        vertical-align: top;\n",
       "    }\n",
       "\n",
       "    .dataframe thead th {\n",
       "        text-align: right;\n",
       "    }\n",
       "</style>\n",
       "<table border=\"1\" class=\"dataframe\">\n",
       "  <thead>\n",
       "    <tr style=\"text-align: right;\">\n",
       "      <th></th>\n",
       "      <th>age</th>\n",
       "      <th>sex</th>\n",
       "      <th>cp</th>\n",
       "      <th>trestbps</th>\n",
       "      <th>chol</th>\n",
       "      <th>fbs</th>\n",
       "      <th>restecg</th>\n",
       "      <th>thalach</th>\n",
       "      <th>exang</th>\n",
       "      <th>oldpeak</th>\n",
       "      <th>slope</th>\n",
       "      <th>ca</th>\n",
       "      <th>thal</th>\n",
       "      <th>target</th>\n",
       "    </tr>\n",
       "  </thead>\n",
       "  <tbody>\n",
       "    <tr>\n",
       "      <th>0</th>\n",
       "      <td>63</td>\n",
       "      <td>1</td>\n",
       "      <td>3</td>\n",
       "      <td>145</td>\n",
       "      <td>233</td>\n",
       "      <td>1</td>\n",
       "      <td>0</td>\n",
       "      <td>150</td>\n",
       "      <td>0</td>\n",
       "      <td>2.3</td>\n",
       "      <td>0</td>\n",
       "      <td>0</td>\n",
       "      <td>1</td>\n",
       "      <td>1</td>\n",
       "    </tr>\n",
       "    <tr>\n",
       "      <th>1</th>\n",
       "      <td>37</td>\n",
       "      <td>1</td>\n",
       "      <td>2</td>\n",
       "      <td>130</td>\n",
       "      <td>250</td>\n",
       "      <td>0</td>\n",
       "      <td>1</td>\n",
       "      <td>187</td>\n",
       "      <td>0</td>\n",
       "      <td>3.5</td>\n",
       "      <td>0</td>\n",
       "      <td>0</td>\n",
       "      <td>2</td>\n",
       "      <td>1</td>\n",
       "    </tr>\n",
       "    <tr>\n",
       "      <th>2</th>\n",
       "      <td>41</td>\n",
       "      <td>0</td>\n",
       "      <td>1</td>\n",
       "      <td>130</td>\n",
       "      <td>204</td>\n",
       "      <td>0</td>\n",
       "      <td>0</td>\n",
       "      <td>172</td>\n",
       "      <td>0</td>\n",
       "      <td>1.4</td>\n",
       "      <td>2</td>\n",
       "      <td>0</td>\n",
       "      <td>2</td>\n",
       "      <td>1</td>\n",
       "    </tr>\n",
       "    <tr>\n",
       "      <th>3</th>\n",
       "      <td>56</td>\n",
       "      <td>1</td>\n",
       "      <td>1</td>\n",
       "      <td>120</td>\n",
       "      <td>236</td>\n",
       "      <td>0</td>\n",
       "      <td>1</td>\n",
       "      <td>178</td>\n",
       "      <td>0</td>\n",
       "      <td>0.8</td>\n",
       "      <td>2</td>\n",
       "      <td>0</td>\n",
       "      <td>2</td>\n",
       "      <td>1</td>\n",
       "    </tr>\n",
       "    <tr>\n",
       "      <th>4</th>\n",
       "      <td>57</td>\n",
       "      <td>0</td>\n",
       "      <td>0</td>\n",
       "      <td>120</td>\n",
       "      <td>354</td>\n",
       "      <td>0</td>\n",
       "      <td>1</td>\n",
       "      <td>163</td>\n",
       "      <td>1</td>\n",
       "      <td>0.6</td>\n",
       "      <td>2</td>\n",
       "      <td>0</td>\n",
       "      <td>2</td>\n",
       "      <td>1</td>\n",
       "    </tr>\n",
       "  </tbody>\n",
       "</table>\n",
       "</div>"
      ],
      "text/plain": [
       "   age  sex  cp  trestbps  chol  fbs  restecg  thalach  exang  oldpeak  slope  \\\n",
       "0   63    1   3       145   233    1        0      150      0      2.3      0   \n",
       "1   37    1   2       130   250    0        1      187      0      3.5      0   \n",
       "2   41    0   1       130   204    0        0      172      0      1.4      2   \n",
       "3   56    1   1       120   236    0        1      178      0      0.8      2   \n",
       "4   57    0   0       120   354    0        1      163      1      0.6      2   \n",
       "\n",
       "   ca  thal  target  \n",
       "0   0     1       1  \n",
       "1   0     2       1  \n",
       "2   0     2       1  \n",
       "3   0     2       1  \n",
       "4   0     2       1  "
      ]
     },
     "execution_count": 7,
     "metadata": {},
     "output_type": "execute_result"
    }
   ],
   "source": [
    "dataset.head()"
   ]
  },
  {
   "cell_type": "code",
   "execution_count": 8,
   "metadata": {},
   "outputs": [
    {
     "data": {
      "text/html": [
       "<div>\n",
       "<style scoped>\n",
       "    .dataframe tbody tr th:only-of-type {\n",
       "        vertical-align: middle;\n",
       "    }\n",
       "\n",
       "    .dataframe tbody tr th {\n",
       "        vertical-align: top;\n",
       "    }\n",
       "\n",
       "    .dataframe thead th {\n",
       "        text-align: right;\n",
       "    }\n",
       "</style>\n",
       "<table border=\"1\" class=\"dataframe\">\n",
       "  <thead>\n",
       "    <tr style=\"text-align: right;\">\n",
       "      <th></th>\n",
       "      <th>age</th>\n",
       "      <th>sex</th>\n",
       "      <th>cp</th>\n",
       "      <th>trestbps</th>\n",
       "      <th>chol</th>\n",
       "      <th>fbs</th>\n",
       "      <th>restecg</th>\n",
       "      <th>thalach</th>\n",
       "      <th>exang</th>\n",
       "      <th>oldpeak</th>\n",
       "      <th>slope</th>\n",
       "      <th>ca</th>\n",
       "      <th>thal</th>\n",
       "      <th>target</th>\n",
       "    </tr>\n",
       "  </thead>\n",
       "  <tbody>\n",
       "    <tr>\n",
       "      <th>298</th>\n",
       "      <td>57</td>\n",
       "      <td>0</td>\n",
       "      <td>0</td>\n",
       "      <td>140</td>\n",
       "      <td>241</td>\n",
       "      <td>0</td>\n",
       "      <td>1</td>\n",
       "      <td>123</td>\n",
       "      <td>1</td>\n",
       "      <td>0.2</td>\n",
       "      <td>1</td>\n",
       "      <td>0</td>\n",
       "      <td>3</td>\n",
       "      <td>0</td>\n",
       "    </tr>\n",
       "    <tr>\n",
       "      <th>299</th>\n",
       "      <td>45</td>\n",
       "      <td>1</td>\n",
       "      <td>3</td>\n",
       "      <td>110</td>\n",
       "      <td>264</td>\n",
       "      <td>0</td>\n",
       "      <td>1</td>\n",
       "      <td>132</td>\n",
       "      <td>0</td>\n",
       "      <td>1.2</td>\n",
       "      <td>1</td>\n",
       "      <td>0</td>\n",
       "      <td>3</td>\n",
       "      <td>0</td>\n",
       "    </tr>\n",
       "    <tr>\n",
       "      <th>300</th>\n",
       "      <td>68</td>\n",
       "      <td>1</td>\n",
       "      <td>0</td>\n",
       "      <td>144</td>\n",
       "      <td>193</td>\n",
       "      <td>1</td>\n",
       "      <td>1</td>\n",
       "      <td>141</td>\n",
       "      <td>0</td>\n",
       "      <td>3.4</td>\n",
       "      <td>1</td>\n",
       "      <td>2</td>\n",
       "      <td>3</td>\n",
       "      <td>0</td>\n",
       "    </tr>\n",
       "    <tr>\n",
       "      <th>301</th>\n",
       "      <td>57</td>\n",
       "      <td>1</td>\n",
       "      <td>0</td>\n",
       "      <td>130</td>\n",
       "      <td>131</td>\n",
       "      <td>0</td>\n",
       "      <td>1</td>\n",
       "      <td>115</td>\n",
       "      <td>1</td>\n",
       "      <td>1.2</td>\n",
       "      <td>1</td>\n",
       "      <td>1</td>\n",
       "      <td>3</td>\n",
       "      <td>0</td>\n",
       "    </tr>\n",
       "    <tr>\n",
       "      <th>302</th>\n",
       "      <td>57</td>\n",
       "      <td>0</td>\n",
       "      <td>1</td>\n",
       "      <td>130</td>\n",
       "      <td>236</td>\n",
       "      <td>0</td>\n",
       "      <td>0</td>\n",
       "      <td>174</td>\n",
       "      <td>0</td>\n",
       "      <td>0.0</td>\n",
       "      <td>1</td>\n",
       "      <td>1</td>\n",
       "      <td>2</td>\n",
       "      <td>0</td>\n",
       "    </tr>\n",
       "  </tbody>\n",
       "</table>\n",
       "</div>"
      ],
      "text/plain": [
       "     age  sex  cp  trestbps  chol  fbs  restecg  thalach  exang  oldpeak  \\\n",
       "298   57    0   0       140   241    0        1      123      1      0.2   \n",
       "299   45    1   3       110   264    0        1      132      0      1.2   \n",
       "300   68    1   0       144   193    1        1      141      0      3.4   \n",
       "301   57    1   0       130   131    0        1      115      1      1.2   \n",
       "302   57    0   1       130   236    0        0      174      0      0.0   \n",
       "\n",
       "     slope  ca  thal  target  \n",
       "298      1   0     3       0  \n",
       "299      1   0     3       0  \n",
       "300      1   2     3       0  \n",
       "301      1   1     3       0  \n",
       "302      1   1     2       0  "
      ]
     },
     "execution_count": 8,
     "metadata": {},
     "output_type": "execute_result"
    }
   ],
   "source": [
    "dataset.tail()"
   ]
  },
  {
   "cell_type": "markdown",
   "metadata": {},
   "source": [
    "Now let's look at the variables upclose"
   ]
  },
  {
   "cell_type": "markdown",
   "metadata": {},
   "source": [
    "#### Age"
   ]
  },
  {
   "cell_type": "code",
   "execution_count": 9,
   "metadata": {},
   "outputs": [
    {
     "data": {
      "text/plain": [
       "54.366336633663366"
      ]
     },
     "execution_count": 9,
     "metadata": {},
     "output_type": "execute_result"
    }
   ],
   "source": [
    "dataset.age.mean()"
   ]
  },
  {
   "cell_type": "code",
   "execution_count": 10,
   "metadata": {},
   "outputs": [
    {
     "name": "stderr",
     "output_type": "stream",
     "text": [
      "/Users/shashikantbinhan/opt/anaconda3/lib/python3.8/site-packages/seaborn/distributions.py:2551: FutureWarning: `distplot` is a deprecated function and will be removed in a future version. Please adapt your code to use either `displot` (a figure-level function with similar flexibility) or `histplot` (an axes-level function for histograms).\n",
      "  warnings.warn(msg, FutureWarning)\n"
     ]
    },
    {
     "data": {
      "image/png": "[encoded data removed]",
      "text/plain": [
       "<Figure size 432x288 with 1 Axes>"
      ]
     },
     "metadata": {
      "needs_background": "light"
     },
     "output_type": "display_data"
    }
   ],
   "source": [
    "plt.tight_layout()\n",
    "sns.distplot(dataset['age'])\n",
    "plt.show()"
   ]
  },
  {
   "cell_type": "markdown",
   "metadata": {},
   "source": [
    "We can see that the data is bell shaped with the mean age around 54."
   ]
  },
  {
   "cell_type": "markdown",
   "metadata": {},
   "source": [
    "#### Sex"
   ]
  },
  {
   "cell_type": "code",
   "execution_count": 11,
   "metadata": {},
   "outputs": [
    {
     "data": {
      "text/plain": [
       "1    207\n",
       "0     96\n",
       "Name: sex, dtype: int64"
      ]
     },
     "execution_count": 11,
     "metadata": {},
     "output_type": "execute_result"
    }
   ],
   "source": [
    "dataset.sex.value_counts()\n",
    "# 1=Male, 0=Female"
   ]
  },
  {
   "cell_type": "code",
   "execution_count": 12,
   "metadata": {
    "scrolled": true
   },
   "outputs": [
    {
     "data": {
      "image/png": "[encoded data removed]",
      "text/plain": [
       "<Figure size 432x288 with 1 Axes>"
      ]
     },
     "metadata": {
      "needs_background": "light"
     },
     "output_type": "display_data"
    }
   ],
   "source": [
    "sns.countplot(x='sex', data=dataset, palette='Paired')\n",
    "\n",
    "ax = plt.gca()\n",
    "\n",
    "y_max = dataset['sex'].value_counts().max() \n",
    "ax.set_ylim([0, 220])\n",
    "\n",
    "for p in ax.patches:\n",
    "    ax.text(p.get_x() + p.get_width()/2., p.get_height(), '%d' % int(p.get_height()), \n",
    "            fontsize=12, color='black', ha='center', va='bottom')\n",
    "plt.show()\n"
   ]
  },
  {
   "cell_type": "markdown",
   "metadata": {},
   "source": [
    "#### Chest Pain"
   ]
  },
  {
   "cell_type": "code",
   "execution_count": 13,
   "metadata": {
    "scrolled": true
   },
   "outputs": [
    {
     "name": "stdout",
     "output_type": "stream",
     "text": [
      "4\n",
      "\n",
      "     cp\n",
      "0  143\n",
      "1   50\n",
      "2   87\n",
      "3   23\n"
     ]
    }
   ],
   "source": [
    "print(dataset['cp'].nunique())\n",
    "print('\\n',dataset['cp'].value_counts().sort_index(ascending=True).to_frame())"
   ]
  },
  {
   "cell_type": "code",
   "execution_count": 14,
   "metadata": {},
   "outputs": [
    {
     "data": {
      "image/png": "[encoded data removed]",
      "text/plain": [
       "<Figure size 432x288 with 1 Axes>"
      ]
     },
     "metadata": {
      "needs_background": "light"
     },
     "output_type": "display_data"
    }
   ],
   "source": [
    "sns.countplot(x='cp', data=dataset, palette='Set2')\n",
    "\n",
    "ax = plt.gca()\n",
    "\n",
    "y_max = dataset['cp'].value_counts().max() \n",
    "ax.set_ylim([0, 150])\n",
    "\n",
    "for p in ax.patches:\n",
    "    ax.text(p.get_x() + p.get_width()/2., p.get_height(), '%d' % int(p.get_height()), \n",
    "            fontsize=11, color='black', ha='center', va='bottom')\n",
    "plt.show()"
   ]
  },
  {
   "cell_type": "markdown",
   "metadata": {},
   "source": [
    "#### Fasting Blood Sugar"
   ]
  },
  {
   "cell_type": "code",
   "execution_count": 15,
   "metadata": {},
   "outputs": [
    {
     "name": "stdout",
     "output_type": "stream",
     "text": [
      "2\n",
      "\n",
      "    fbs\n",
      "0  258\n",
      "1   45\n"
     ]
    }
   ],
   "source": [
    "print(dataset['fbs'].nunique())\n",
    "print('\\n', dataset['fbs'].value_counts().to_frame())"
   ]
  },
  {
   "cell_type": "code",
   "execution_count": 16,
   "metadata": {},
   "outputs": [
    {
     "data": {
      "image/png": "[encoded data removed]",
      "text/plain": [
       "<Figure size 432x288 with 1 Axes>"
      ]
     },
     "metadata": {
      "needs_background": "light"
     },
     "output_type": "display_data"
    }
   ],
   "source": [
    "sns.countplot(x='fbs', data=dataset, palette=\"hls\")\n",
    "\n",
    "ax = plt.gca()\n",
    "\n",
    "y_max = dataset['fbs'].value_counts().max() \n",
    "ax.set_ylim([0, 280])\n",
    "\n",
    "for p in ax.patches:\n",
    "    ax.text(p.get_x() + p.get_width()/2., p.get_height(), '%d' % int(p.get_height()), \n",
    "            fontsize=12, color='black', ha='center', va='bottom')\n",
    "plt.show()"
   ]
  },
  {
   "cell_type": "markdown",
   "metadata": {},
   "source": [
    "#### Restecg"
   ]
  },
  {
   "cell_type": "code",
   "execution_count": 17,
   "metadata": {
    "scrolled": false
   },
   "outputs": [
    {
     "name": "stdout",
     "output_type": "stream",
     "text": [
      "3\n",
      "\n",
      "    restecg\n",
      "0      147\n",
      "1      152\n",
      "2        4\n"
     ]
    }
   ],
   "source": [
    "print(dataset['restecg'].nunique())\n",
    "print('\\n', dataset['restecg'].value_counts().sort_index(ascending=True).to_frame())"
   ]
  },
  {
   "cell_type": "code",
   "execution_count": 18,
   "metadata": {},
   "outputs": [
    {
     "data": {
      "image/png": "[encoded data removed]",
      "text/plain": [
       "<Figure size 432x288 with 1 Axes>"
      ]
     },
     "metadata": {
      "needs_background": "light"
     },
     "output_type": "display_data"
    }
   ],
   "source": [
    "sns.countplot(x='restecg', data=dataset, palette='viridis')\n",
    "\n",
    "ax = plt.gca()\n",
    "\n",
    "y_max = dataset['restecg'].value_counts().max() \n",
    "ax.set_ylim([0, 170])\n",
    "\n",
    "for p in ax.patches:\n",
    "    ax.text(p.get_x() + p.get_width()/2., p.get_height(), '%d' % int(p.get_height()), \n",
    "            fontsize=12, color='black', ha='center', va='bottom')"
   ]
  },
  {
   "cell_type": "markdown",
   "metadata": {},
   "source": [
    "#### Exang (Exercise induced Angina)"
   ]
  },
  {
   "cell_type": "code",
   "execution_count": 19,
   "metadata": {
    "scrolled": true
   },
   "outputs": [
    {
     "name": "stdout",
     "output_type": "stream",
     "text": [
      "2\n",
      "\n",
      "    exang\n",
      "0    204\n",
      "1     99\n"
     ]
    }
   ],
   "source": [
    "print(dataset['exang'].nunique())\n",
    "print('\\n', dataset['exang'].value_counts().to_frame())"
   ]
  },
  {
   "cell_type": "code",
   "execution_count": 20,
   "metadata": {},
   "outputs": [
    {
     "data": {
      "image/png": "[encoded data removed]",
      "text/plain": [
       "<Figure size 432x288 with 1 Axes>"
      ]
     },
     "metadata": {
      "needs_background": "light"
     },
     "output_type": "display_data"
    }
   ],
   "source": [
    "sns.countplot(x='exang', data=dataset, palette='viridis')\n",
    "\n",
    "ax = plt.gca()\n",
    "\n",
    "y_max = dataset['exang'].value_counts().max() \n",
    "ax.set_ylim([0, 300])\n",
    "\n",
    "for p in ax.patches:\n",
    "    ax.text(p.get_x() + p.get_width()/2., p.get_height(), '%d' % int(p.get_height()), \n",
    "            fontsize=12, color='black', ha='center', va='bottom')\n",
    "    \n",
    "plt.show()"
   ]
  },
  {
   "cell_type": "markdown",
   "metadata": {},
   "source": [
    "#### Slope"
   ]
  },
  {
   "cell_type": "code",
   "execution_count": 21,
   "metadata": {
    "scrolled": true
   },
   "outputs": [
    {
     "name": "stdout",
     "output_type": "stream",
     "text": [
      "3\n",
      "\n",
      "    slope\n",
      "0     21\n",
      "1    140\n",
      "2    142\n"
     ]
    }
   ],
   "source": [
    "print(dataset['slope'].nunique())\n",
    "print('\\n', dataset['slope'].value_counts().sort_index(ascending=True).to_frame())"
   ]
  },
  {
   "cell_type": "code",
   "execution_count": 22,
   "metadata": {},
   "outputs": [
    {
     "data": {
      "image/png": "[encoded data removed]",
      "text/plain": [
       "<Figure size 432x288 with 1 Axes>"
      ]
     },
     "metadata": {
      "needs_background": "light"
     },
     "output_type": "display_data"
    }
   ],
   "source": [
    "sns.countplot(x='slope', data=dataset, palette='viridis')\n",
    "\n",
    "ax = plt.gca()\n",
    "\n",
    "y_max = dataset['slope'].value_counts().max() \n",
    "ax.set_ylim([0, 150])\n",
    "\n",
    "for p in ax.patches:\n",
    "    ax.text(p.get_x() + p.get_width()/2., p.get_height(), '%d' % int(p.get_height()), \n",
    "            fontsize=12, color='black', ha='center', va='bottom')\n",
    "    \n",
    "plt.show()"
   ]
  },
  {
   "cell_type": "markdown",
   "metadata": {},
   "source": [
    "#### ca (The number of major blood vessels(0-3) supplying blood to heart blocked)"
   ]
  },
  {
   "cell_type": "code",
   "execution_count": 23,
   "metadata": {
    "scrolled": true
   },
   "outputs": [
    {
     "name": "stdout",
     "output_type": "stream",
     "text": [
      "5\n",
      "\n",
      "     ca\n",
      "0  175\n",
      "1   65\n",
      "2   38\n",
      "3   20\n",
      "4    5\n"
     ]
    }
   ],
   "source": [
    "print(dataset['ca'].nunique())\n",
    "print('\\n', dataset['ca'].value_counts().to_frame())"
   ]
  },
  {
   "cell_type": "code",
   "execution_count": 24,
   "metadata": {
    "scrolled": true
   },
   "outputs": [
    {
     "data": {
      "image/png": "[encoded data removed]",
      "text/plain": [
       "<Figure size 432x288 with 1 Axes>"
      ]
     },
     "metadata": {
      "needs_background": "light"
     },
     "output_type": "display_data"
    }
   ],
   "source": [
    "sns.countplot(x='ca', data=dataset, palette='viridis')\n",
    "\n",
    "ax = plt.gca()\n",
    "\n",
    "y_max = dataset['ca'].value_counts().max() \n",
    "ax.set_ylim([0, 180])\n",
    "\n",
    "for p in ax.patches:\n",
    "    ax.text(p.get_x() + p.get_width()/2., p.get_height(), '%d' % int(p.get_height()), \n",
    "            fontsize=12, color='black', ha='center', va='bottom')\n",
    "    \n",
    "plt.show()"
   ]
  },
  {
   "cell_type": "markdown",
   "metadata": {},
   "source": [
    "#### thal (thalium heart scan)"
   ]
  },
  {
   "cell_type": "code",
   "execution_count": 25,
   "metadata": {},
   "outputs": [
    {
     "name": "stdout",
     "output_type": "stream",
     "text": [
      "4\n",
      "\n",
      "    thal\n",
      "0     2\n",
      "1    18\n",
      "2   166\n",
      "3   117\n"
     ]
    }
   ],
   "source": [
    "print(dataset['thal'].nunique())\n",
    "print('\\n', dataset['thal'].value_counts().sort_index(ascending=True).to_frame())"
   ]
  },
  {
   "cell_type": "code",
   "execution_count": 26,
   "metadata": {},
   "outputs": [
    {
     "data": {
      "image/png": "[encoded data removed]",
      "text/plain": [
       "<Figure size 432x288 with 1 Axes>"
      ]
     },
     "metadata": {
      "needs_background": "light"
     },
     "output_type": "display_data"
    }
   ],
   "source": [
    "sns.countplot(x='thal', data=dataset, palette='viridis')\n",
    "\n",
    "ax = plt.gca()\n",
    "\n",
    "y_max = dataset['thal'].value_counts().max() \n",
    "ax.set_ylim([0, 180])\n",
    "\n",
    "for p in ax.patches:\n",
    "    ax.text(p.get_x() + p.get_width()/2., p.get_height(), '%d' % int(p.get_height()), \n",
    "            fontsize=12, color='black', ha='center', va='bottom')\n",
    "    \n",
    "plt.show()"
   ]
  },
  {
   "cell_type": "markdown",
   "metadata": {},
   "source": [
    "#### target"
   ]
  },
  {
   "cell_type": "code",
   "execution_count": 27,
   "metadata": {},
   "outputs": [
    {
     "name": "stdout",
     "output_type": "stream",
     "text": [
      "2\n",
      "\n",
      "    target\n",
      "1     165\n",
      "0     138\n"
     ]
    }
   ],
   "source": [
    "print(dataset['target'].nunique())\n",
    "print('\\n', dataset['target'].value_counts().to_frame())"
   ]
  },
  {
   "cell_type": "code",
   "execution_count": 28,
   "metadata": {
    "scrolled": true
   },
   "outputs": [
    {
     "data": {
      "image/png": "[encoded data removed]",
      "text/plain": [
       "<Figure size 432x288 with 1 Axes>"
      ]
     },
     "metadata": {
      "needs_background": "light"
     },
     "output_type": "display_data"
    }
   ],
   "source": [
    "sns.countplot(x='target', data=dataset, palette='viridis')\n",
    "\n",
    "ax = plt.gca()\n",
    "\n",
    "y_max = dataset['target'].value_counts().max() \n",
    "ax.set_ylim([0, 180])\n",
    "\n",
    "for p in ax.patches:\n",
    "    ax.text(p.get_x() + p.get_width()/2., p.get_height(), '%d' % int(p.get_height()), \n",
    "            fontsize=12, color='black', ha='center', va='bottom')\n",
    "    \n",
    "plt.show()"
   ]
  },
  {
   "cell_type": "markdown",
   "metadata": {},
   "source": [
    "Let's look at the frequency of Heart disease in males and females."
   ]
  },
  {
   "cell_type": "code",
   "execution_count": 29,
   "metadata": {},
   "outputs": [
    {
     "data": {
      "image/png": "[encoded data removed]",
      "text/plain": [
       "<Figure size 576x432 with 1 Axes>"
      ]
     },
     "metadata": {
      "needs_background": "light"
     },
     "output_type": "display_data"
    }
   ],
   "source": [
    "pd.crosstab(dataset.target,dataset.sex).plot(kind='bar',figsize=(8,6),color=[\"navy\",\"aquamarine\"])\n",
    "plt.title(\"Frequency of Heart Disease vs Sex\")\n",
    "plt.xlabel(\"0= Heart Disease, 1= No disease\")\n",
    "plt.ylabel(\"Number of people with heart disease\")\n",
    "plt.legend([\"Female\",\"Male\"])\n",
    "plt.xticks(rotation=0);"
   ]
  },
  {
   "cell_type": "markdown",
   "metadata": {},
   "source": [
    "We can see that the frequency of heart disease in the respective genders is\n",
    "Females: 23 ,\n",
    "Males: 120\n",
    "\n",
    "& the frequency of no heart disease in respective genders is \n",
    "Females: 73 ,\n",
    "Males: 87 ."
   ]
  },
  {
   "cell_type": "code",
   "execution_count": 30,
   "metadata": {
    "scrolled": true
   },
   "outputs": [
    {
     "data": {
      "text/plain": [
       "<AxesSubplot:xlabel='age', ylabel='chol'>"
      ]
     },
     "execution_count": 30,
     "metadata": {},
     "output_type": "execute_result"
    },
    {
     "data": {
      "image/png": "[encoded data removed]",
      "text/plain": [
       "<Figure size 432x288 with 2 Axes>"
      ]
     },
     "metadata": {
      "needs_background": "light"
     },
     "output_type": "display_data"
    }
   ],
   "source": [
    "plt.subplot(1,2,1)\n",
    "sns.scatterplot(x='age',y='chol',hue='sex',data=dataset)\n",
    "plt.subplot(1,2,2)\n",
    "sns.scatterplot(x='age',y='chol',hue='target',data=dataset)"
   ]
  },
  {
   "cell_type": "markdown",
   "metadata": {},
   "source": [
    "While plotting the graph with x=age and y=chol, we find that most of the people lie between the age group of 40-60 with cholestrol levels between 150-350."
   ]
  },
  {
   "cell_type": "markdown",
   "metadata": {},
   "source": [
    "#### Now lets see which gender and age group are prone to having heart attacks "
   ]
  },
  {
   "cell_type": "code",
   "execution_count": 31,
   "metadata": {},
   "outputs": [
    {
     "data": {
      "text/html": [
       "<style  type=\"text/css\" >\n",
       "#T_c65d3ee8_d92e_11ec_8953_2cf0ee2ac6f2row0_col0,#T_c65d3ee8_d92e_11ec_8953_2cf0ee2ac6f2row1_col0,#T_c65d3ee8_d92e_11ec_8953_2cf0ee2ac6f2row2_col0,#T_c65d3ee8_d92e_11ec_8953_2cf0ee2ac6f2row3_col0,#T_c65d3ee8_d92e_11ec_8953_2cf0ee2ac6f2row4_col0,#T_c65d3ee8_d92e_11ec_8953_2cf0ee2ac6f2row5_col0,#T_c65d3ee8_d92e_11ec_8953_2cf0ee2ac6f2row5_col1,#T_c65d3ee8_d92e_11ec_8953_2cf0ee2ac6f2row6_col0,#T_c65d3ee8_d92e_11ec_8953_2cf0ee2ac6f2row7_col0,#T_c65d3ee8_d92e_11ec_8953_2cf0ee2ac6f2row8_col0,#T_c65d3ee8_d92e_11ec_8953_2cf0ee2ac6f2row8_col2,#T_c65d3ee8_d92e_11ec_8953_2cf0ee2ac6f2row9_col0,#T_c65d3ee8_d92e_11ec_8953_2cf0ee2ac6f2row9_col2{\n",
       "            background-color:  #000004;\n",
       "            color:  #f1f1f1;\n",
       "        }#T_c65d3ee8_d92e_11ec_8953_2cf0ee2ac6f2row0_col1{\n",
       "            background-color:  #f37819;\n",
       "            color:  #000000;\n",
       "        }#T_c65d3ee8_d92e_11ec_8953_2cf0ee2ac6f2row0_col2,#T_c65d3ee8_d92e_11ec_8953_2cf0ee2ac6f2row1_col2,#T_c65d3ee8_d92e_11ec_8953_2cf0ee2ac6f2row2_col2,#T_c65d3ee8_d92e_11ec_8953_2cf0ee2ac6f2row9_col1{\n",
       "            background-color:  #fcffa4;\n",
       "            color:  #000000;\n",
       "        }#T_c65d3ee8_d92e_11ec_8953_2cf0ee2ac6f2row1_col1{\n",
       "            background-color:  #ea632a;\n",
       "            color:  #000000;\n",
       "        }#T_c65d3ee8_d92e_11ec_8953_2cf0ee2ac6f2row2_col1{\n",
       "            background-color:  #f98e09;\n",
       "            color:  #000000;\n",
       "        }#T_c65d3ee8_d92e_11ec_8953_2cf0ee2ac6f2row3_col1{\n",
       "            background-color:  #932667;\n",
       "            color:  #f1f1f1;\n",
       "        }#T_c65d3ee8_d92e_11ec_8953_2cf0ee2ac6f2row3_col2{\n",
       "            background-color:  #fbb61a;\n",
       "            color:  #000000;\n",
       "        }#T_c65d3ee8_d92e_11ec_8953_2cf0ee2ac6f2row4_col1{\n",
       "            background-color:  #bc3754;\n",
       "            color:  #f1f1f1;\n",
       "        }#T_c65d3ee8_d92e_11ec_8953_2cf0ee2ac6f2row4_col2{\n",
       "            background-color:  #ed6925;\n",
       "            color:  #000000;\n",
       "        }#T_c65d3ee8_d92e_11ec_8953_2cf0ee2ac6f2row5_col2{\n",
       "            background-color:  #781c6d;\n",
       "            color:  #f1f1f1;\n",
       "        }#T_c65d3ee8_d92e_11ec_8953_2cf0ee2ac6f2row6_col1{\n",
       "            background-color:  #7f1e6c;\n",
       "            color:  #f1f1f1;\n",
       "        }#T_c65d3ee8_d92e_11ec_8953_2cf0ee2ac6f2row6_col2,#T_c65d3ee8_d92e_11ec_8953_2cf0ee2ac6f2row7_col2{\n",
       "            background-color:  #320a5e;\n",
       "            color:  #f1f1f1;\n",
       "        }#T_c65d3ee8_d92e_11ec_8953_2cf0ee2ac6f2row7_col1{\n",
       "            background-color:  #dd513a;\n",
       "            color:  #000000;\n",
       "        }#T_c65d3ee8_d92e_11ec_8953_2cf0ee2ac6f2row8_col1{\n",
       "            background-color:  #fca50a;\n",
       "            color:  #000000;\n",
       "        }</style><table id=\"T_c65d3ee8_d92e_11ec_8953_2cf0ee2ac6f2\" ><thead>    <tr>        <th class=\"blank level0\" ></th>        <th class=\"col_heading level0 col0\" >sex</th>        <th class=\"col_heading level0 col1\" >age</th>        <th class=\"col_heading level0 col2\" >target</th>    </tr></thead><tbody>\n",
       "                <tr>\n",
       "                        <th id=\"T_c65d3ee8_d92e_11ec_8953_2cf0ee2ac6f2level0_row0\" class=\"row_heading level0 row0\" >59</th>\n",
       "                        <td id=\"T_c65d3ee8_d92e_11ec_8953_2cf0ee2ac6f2row0_col0\" class=\"data row0 col0\" >1</td>\n",
       "                        <td id=\"T_c65d3ee8_d92e_11ec_8953_2cf0ee2ac6f2row0_col1\" class=\"data row0 col1\" >58</td>\n",
       "                        <td id=\"T_c65d3ee8_d92e_11ec_8953_2cf0ee2ac6f2row0_col2\" class=\"data row0 col2\" >13</td>\n",
       "            </tr>\n",
       "            <tr>\n",
       "                        <th id=\"T_c65d3ee8_d92e_11ec_8953_2cf0ee2ac6f2level0_row1\" class=\"row_heading level0 row1\" >58</th>\n",
       "                        <td id=\"T_c65d3ee8_d92e_11ec_8953_2cf0ee2ac6f2row1_col0\" class=\"data row1 col0\" >1</td>\n",
       "                        <td id=\"T_c65d3ee8_d92e_11ec_8953_2cf0ee2ac6f2row1_col1\" class=\"data row1 col1\" >57</td>\n",
       "                        <td id=\"T_c65d3ee8_d92e_11ec_8953_2cf0ee2ac6f2row1_col2\" class=\"data row1 col2\" >13</td>\n",
       "            </tr>\n",
       "            <tr>\n",
       "                        <th id=\"T_c65d3ee8_d92e_11ec_8953_2cf0ee2ac6f2level0_row2\" class=\"row_heading level0 row2\" >60</th>\n",
       "                        <td id=\"T_c65d3ee8_d92e_11ec_8953_2cf0ee2ac6f2row2_col0\" class=\"data row2 col0\" >1</td>\n",
       "                        <td id=\"T_c65d3ee8_d92e_11ec_8953_2cf0ee2ac6f2row2_col1\" class=\"data row2 col1\" >59</td>\n",
       "                        <td id=\"T_c65d3ee8_d92e_11ec_8953_2cf0ee2ac6f2row2_col2\" class=\"data row2 col2\" >13</td>\n",
       "            </tr>\n",
       "            <tr>\n",
       "                        <th id=\"T_c65d3ee8_d92e_11ec_8953_2cf0ee2ac6f2level0_row3\" class=\"row_heading level0 row3\" >53</th>\n",
       "                        <td id=\"T_c65d3ee8_d92e_11ec_8953_2cf0ee2ac6f2row3_col0\" class=\"data row3 col0\" >1</td>\n",
       "                        <td id=\"T_c65d3ee8_d92e_11ec_8953_2cf0ee2ac6f2row3_col1\" class=\"data row3 col1\" >52</td>\n",
       "                        <td id=\"T_c65d3ee8_d92e_11ec_8953_2cf0ee2ac6f2row3_col2\" class=\"data row3 col2\" >12</td>\n",
       "            </tr>\n",
       "            <tr>\n",
       "                        <th id=\"T_c65d3ee8_d92e_11ec_8953_2cf0ee2ac6f2level0_row4\" class=\"row_heading level0 row4\" >55</th>\n",
       "                        <td id=\"T_c65d3ee8_d92e_11ec_8953_2cf0ee2ac6f2row4_col0\" class=\"data row4 col0\" >1</td>\n",
       "                        <td id=\"T_c65d3ee8_d92e_11ec_8953_2cf0ee2ac6f2row4_col1\" class=\"data row4 col1\" >54</td>\n",
       "                        <td id=\"T_c65d3ee8_d92e_11ec_8953_2cf0ee2ac6f2row4_col2\" class=\"data row4 col2\" >11</td>\n",
       "            </tr>\n",
       "            <tr>\n",
       "                        <th id=\"T_c65d3ee8_d92e_11ec_8953_2cf0ee2ac6f2level0_row5\" class=\"row_heading level0 row5\" >45</th>\n",
       "                        <td id=\"T_c65d3ee8_d92e_11ec_8953_2cf0ee2ac6f2row5_col0\" class=\"data row5 col0\" >1</td>\n",
       "                        <td id=\"T_c65d3ee8_d92e_11ec_8953_2cf0ee2ac6f2row5_col1\" class=\"data row5 col1\" >44</td>\n",
       "                        <td id=\"T_c65d3ee8_d92e_11ec_8953_2cf0ee2ac6f2row5_col2\" class=\"data row5 col2\" >9</td>\n",
       "            </tr>\n",
       "            <tr>\n",
       "                        <th id=\"T_c65d3ee8_d92e_11ec_8953_2cf0ee2ac6f2level0_row6\" class=\"row_heading level0 row6\" >52</th>\n",
       "                        <td id=\"T_c65d3ee8_d92e_11ec_8953_2cf0ee2ac6f2row6_col0\" class=\"data row6 col0\" >1</td>\n",
       "                        <td id=\"T_c65d3ee8_d92e_11ec_8953_2cf0ee2ac6f2row6_col1\" class=\"data row6 col1\" >51</td>\n",
       "                        <td id=\"T_c65d3ee8_d92e_11ec_8953_2cf0ee2ac6f2row6_col2\" class=\"data row6 col2\" >8</td>\n",
       "            </tr>\n",
       "            <tr>\n",
       "                        <th id=\"T_c65d3ee8_d92e_11ec_8953_2cf0ee2ac6f2level0_row7\" class=\"row_heading level0 row7\" >57</th>\n",
       "                        <td id=\"T_c65d3ee8_d92e_11ec_8953_2cf0ee2ac6f2row7_col0\" class=\"data row7 col0\" >1</td>\n",
       "                        <td id=\"T_c65d3ee8_d92e_11ec_8953_2cf0ee2ac6f2row7_col1\" class=\"data row7 col1\" >56</td>\n",
       "                        <td id=\"T_c65d3ee8_d92e_11ec_8953_2cf0ee2ac6f2row7_col2\" class=\"data row7 col2\" >8</td>\n",
       "            </tr>\n",
       "            <tr>\n",
       "                        <th id=\"T_c65d3ee8_d92e_11ec_8953_2cf0ee2ac6f2level0_row8\" class=\"row_heading level0 row8\" >61</th>\n",
       "                        <td id=\"T_c65d3ee8_d92e_11ec_8953_2cf0ee2ac6f2row8_col0\" class=\"data row8 col0\" >1</td>\n",
       "                        <td id=\"T_c65d3ee8_d92e_11ec_8953_2cf0ee2ac6f2row8_col1\" class=\"data row8 col1\" >60</td>\n",
       "                        <td id=\"T_c65d3ee8_d92e_11ec_8953_2cf0ee2ac6f2row8_col2\" class=\"data row8 col2\" >7</td>\n",
       "            </tr>\n",
       "            <tr>\n",
       "                        <th id=\"T_c65d3ee8_d92e_11ec_8953_2cf0ee2ac6f2level0_row9\" class=\"row_heading level0 row9\" >65</th>\n",
       "                        <td id=\"T_c65d3ee8_d92e_11ec_8953_2cf0ee2ac6f2row9_col0\" class=\"data row9 col0\" >1</td>\n",
       "                        <td id=\"T_c65d3ee8_d92e_11ec_8953_2cf0ee2ac6f2row9_col1\" class=\"data row9 col1\" >64</td>\n",
       "                        <td id=\"T_c65d3ee8_d92e_11ec_8953_2cf0ee2ac6f2row9_col2\" class=\"data row9 col2\" >7</td>\n",
       "            </tr>\n",
       "    </tbody></table>"
      ],
      "text/plain": [
       "<pandas.io.formats.style.Styler at 0x7fc7d04e6490>"
      ]
     },
     "execution_count": 31,
     "metadata": {},
     "output_type": "execute_result"
    }
   ],
   "source": [
    "dataset_Gender_Age = dataset.groupby(['sex','age'])['target'].count().reset_index().sort_values(by='target',ascending=False)\n",
    "dataset_Gender_Age.head(10).style.background_gradient(cmap='inferno')"
   ]
  },
  {
   "cell_type": "markdown",
   "metadata": {},
   "source": [
    "We can see that mostly men are prone to be having heart attacks with highest frequency in the age group of 58 to 60"
   ]
  },
  {
   "cell_type": "markdown",
   "metadata": {},
   "source": [
    "#### Now lets see which gender is prone to heart attack when it comes to chest pain"
   ]
  },
  {
   "cell_type": "code",
   "execution_count": 32,
   "metadata": {},
   "outputs": [
    {
     "data": {
      "text/html": [
       "<style  type=\"text/css\" >\n",
       "#T_c661a640_d92e_11ec_8953_2cf0ee2ac6f2row0_col0,#T_c661a640_d92e_11ec_8953_2cf0ee2ac6f2row0_col2,#T_c661a640_d92e_11ec_8953_2cf0ee2ac6f2row1_col0,#T_c661a640_d92e_11ec_8953_2cf0ee2ac6f2row4_col0,#T_c661a640_d92e_11ec_8953_2cf0ee2ac6f2row5_col0,#T_c661a640_d92e_11ec_8953_2cf0ee2ac6f2row5_col1,#T_c661a640_d92e_11ec_8953_2cf0ee2ac6f2row7_col1{\n",
       "            background-color:  #ffffff;\n",
       "            color:  #000000;\n",
       "        }#T_c661a640_d92e_11ec_8953_2cf0ee2ac6f2row0_col1,#T_c661a640_d92e_11ec_8953_2cf0ee2ac6f2row2_col0,#T_c661a640_d92e_11ec_8953_2cf0ee2ac6f2row2_col1,#T_c661a640_d92e_11ec_8953_2cf0ee2ac6f2row3_col0,#T_c661a640_d92e_11ec_8953_2cf0ee2ac6f2row6_col0,#T_c661a640_d92e_11ec_8953_2cf0ee2ac6f2row7_col0,#T_c661a640_d92e_11ec_8953_2cf0ee2ac6f2row7_col2{\n",
       "            background-color:  #000000;\n",
       "            color:  #f1f1f1;\n",
       "        }#T_c661a640_d92e_11ec_8953_2cf0ee2ac6f2row1_col1,#T_c661a640_d92e_11ec_8953_2cf0ee2ac6f2row3_col1{\n",
       "            background-color:  #ff5500;\n",
       "            color:  #000000;\n",
       "        }#T_c661a640_d92e_11ec_8953_2cf0ee2ac6f2row1_col2{\n",
       "            background-color:  #b70000;\n",
       "            color:  #f1f1f1;\n",
       "        }#T_c661a640_d92e_11ec_8953_2cf0ee2ac6f2row2_col2{\n",
       "            background-color:  #850000;\n",
       "            color:  #f1f1f1;\n",
       "        }#T_c661a640_d92e_11ec_8953_2cf0ee2ac6f2row3_col2{\n",
       "            background-color:  #760000;\n",
       "            color:  #f1f1f1;\n",
       "        }#T_c661a640_d92e_11ec_8953_2cf0ee2ac6f2row4_col1,#T_c661a640_d92e_11ec_8953_2cf0ee2ac6f2row6_col1{\n",
       "            background-color:  #800000;\n",
       "            color:  #f1f1f1;\n",
       "        }#T_c661a640_d92e_11ec_8953_2cf0ee2ac6f2row4_col2{\n",
       "            background-color:  #6a0000;\n",
       "            color:  #f1f1f1;\n",
       "        }#T_c661a640_d92e_11ec_8953_2cf0ee2ac6f2row5_col2{\n",
       "            background-color:  #390000;\n",
       "            color:  #f1f1f1;\n",
       "        }#T_c661a640_d92e_11ec_8953_2cf0ee2ac6f2row6_col2{\n",
       "            background-color:  #350000;\n",
       "            color:  #f1f1f1;\n",
       "        }</style><table id=\"T_c661a640_d92e_11ec_8953_2cf0ee2ac6f2\" ><thead>    <tr>        <th class=\"blank level0\" ></th>        <th class=\"col_heading level0 col0\" >sex</th>        <th class=\"col_heading level0 col1\" >cp</th>        <th class=\"col_heading level0 col2\" >target</th>    </tr></thead><tbody>\n",
       "                <tr>\n",
       "                        <th id=\"T_c661a640_d92e_11ec_8953_2cf0ee2ac6f2level0_row0\" class=\"row_heading level0 row0\" >4</th>\n",
       "                        <td id=\"T_c661a640_d92e_11ec_8953_2cf0ee2ac6f2row0_col0\" class=\"data row0 col0\" >1</td>\n",
       "                        <td id=\"T_c661a640_d92e_11ec_8953_2cf0ee2ac6f2row0_col1\" class=\"data row0 col1\" >0</td>\n",
       "                        <td id=\"T_c661a640_d92e_11ec_8953_2cf0ee2ac6f2row0_col2\" class=\"data row0 col2\" >104</td>\n",
       "            </tr>\n",
       "            <tr>\n",
       "                        <th id=\"T_c661a640_d92e_11ec_8953_2cf0ee2ac6f2level0_row1\" class=\"row_heading level0 row1\" >6</th>\n",
       "                        <td id=\"T_c661a640_d92e_11ec_8953_2cf0ee2ac6f2row1_col0\" class=\"data row1 col0\" >1</td>\n",
       "                        <td id=\"T_c661a640_d92e_11ec_8953_2cf0ee2ac6f2row1_col1\" class=\"data row1 col1\" >2</td>\n",
       "                        <td id=\"T_c661a640_d92e_11ec_8953_2cf0ee2ac6f2row1_col2\" class=\"data row1 col2\" >52</td>\n",
       "            </tr>\n",
       "            <tr>\n",
       "                        <th id=\"T_c661a640_d92e_11ec_8953_2cf0ee2ac6f2level0_row2\" class=\"row_heading level0 row2\" >0</th>\n",
       "                        <td id=\"T_c661a640_d92e_11ec_8953_2cf0ee2ac6f2row2_col0\" class=\"data row2 col0\" >0</td>\n",
       "                        <td id=\"T_c661a640_d92e_11ec_8953_2cf0ee2ac6f2row2_col1\" class=\"data row2 col1\" >0</td>\n",
       "                        <td id=\"T_c661a640_d92e_11ec_8953_2cf0ee2ac6f2row2_col2\" class=\"data row2 col2\" >39</td>\n",
       "            </tr>\n",
       "            <tr>\n",
       "                        <th id=\"T_c661a640_d92e_11ec_8953_2cf0ee2ac6f2level0_row3\" class=\"row_heading level0 row3\" >2</th>\n",
       "                        <td id=\"T_c661a640_d92e_11ec_8953_2cf0ee2ac6f2row3_col0\" class=\"data row3 col0\" >0</td>\n",
       "                        <td id=\"T_c661a640_d92e_11ec_8953_2cf0ee2ac6f2row3_col1\" class=\"data row3 col1\" >2</td>\n",
       "                        <td id=\"T_c661a640_d92e_11ec_8953_2cf0ee2ac6f2row3_col2\" class=\"data row3 col2\" >35</td>\n",
       "            </tr>\n",
       "            <tr>\n",
       "                        <th id=\"T_c661a640_d92e_11ec_8953_2cf0ee2ac6f2level0_row4\" class=\"row_heading level0 row4\" >5</th>\n",
       "                        <td id=\"T_c661a640_d92e_11ec_8953_2cf0ee2ac6f2row4_col0\" class=\"data row4 col0\" >1</td>\n",
       "                        <td id=\"T_c661a640_d92e_11ec_8953_2cf0ee2ac6f2row4_col1\" class=\"data row4 col1\" >1</td>\n",
       "                        <td id=\"T_c661a640_d92e_11ec_8953_2cf0ee2ac6f2row4_col2\" class=\"data row4 col2\" >32</td>\n",
       "            </tr>\n",
       "            <tr>\n",
       "                        <th id=\"T_c661a640_d92e_11ec_8953_2cf0ee2ac6f2level0_row5\" class=\"row_heading level0 row5\" >7</th>\n",
       "                        <td id=\"T_c661a640_d92e_11ec_8953_2cf0ee2ac6f2row5_col0\" class=\"data row5 col0\" >1</td>\n",
       "                        <td id=\"T_c661a640_d92e_11ec_8953_2cf0ee2ac6f2row5_col1\" class=\"data row5 col1\" >3</td>\n",
       "                        <td id=\"T_c661a640_d92e_11ec_8953_2cf0ee2ac6f2row5_col2\" class=\"data row5 col2\" >19</td>\n",
       "            </tr>\n",
       "            <tr>\n",
       "                        <th id=\"T_c661a640_d92e_11ec_8953_2cf0ee2ac6f2level0_row6\" class=\"row_heading level0 row6\" >1</th>\n",
       "                        <td id=\"T_c661a640_d92e_11ec_8953_2cf0ee2ac6f2row6_col0\" class=\"data row6 col0\" >0</td>\n",
       "                        <td id=\"T_c661a640_d92e_11ec_8953_2cf0ee2ac6f2row6_col1\" class=\"data row6 col1\" >1</td>\n",
       "                        <td id=\"T_c661a640_d92e_11ec_8953_2cf0ee2ac6f2row6_col2\" class=\"data row6 col2\" >18</td>\n",
       "            </tr>\n",
       "            <tr>\n",
       "                        <th id=\"T_c661a640_d92e_11ec_8953_2cf0ee2ac6f2level0_row7\" class=\"row_heading level0 row7\" >3</th>\n",
       "                        <td id=\"T_c661a640_d92e_11ec_8953_2cf0ee2ac6f2row7_col0\" class=\"data row7 col0\" >0</td>\n",
       "                        <td id=\"T_c661a640_d92e_11ec_8953_2cf0ee2ac6f2row7_col1\" class=\"data row7 col1\" >3</td>\n",
       "                        <td id=\"T_c661a640_d92e_11ec_8953_2cf0ee2ac6f2row7_col2\" class=\"data row7 col2\" >4</td>\n",
       "            </tr>\n",
       "    </tbody></table>"
      ],
      "text/plain": [
       "<pandas.io.formats.style.Styler at 0x7fc7d0e39340>"
      ]
     },
     "execution_count": 32,
     "metadata": {},
     "output_type": "execute_result"
    }
   ],
   "source": [
    "dataset_pain_gender = dataset.groupby(['sex','cp'])['target'].count().reset_index().sort_values(by='target',ascending=False)\n",
    "dataset_pain_gender.head(10).style.background_gradient(cmap='gist_heat')"
   ]
  },
  {
   "cell_type": "markdown",
   "metadata": {},
   "source": [
    "People with no symptom of chest pain are prone to heart attack the most followed by the people with cp value 2."
   ]
  },
  {
   "cell_type": "markdown",
   "metadata": {},
   "source": [
    "#### Number of people has Heart-attack according Fasting_blood_sugar and Gender"
   ]
  },
  {
   "cell_type": "code",
   "execution_count": 33,
   "metadata": {},
   "outputs": [
    {
     "data": {
      "text/html": [
       "<style  type=\"text/css\" >\n",
       "#T_c667b26a_d92e_11ec_8953_2cf0ee2ac6f2row0_col0,#T_c667b26a_d92e_11ec_8953_2cf0ee2ac6f2row0_col2,#T_c667b26a_d92e_11ec_8953_2cf0ee2ac6f2row2_col0,#T_c667b26a_d92e_11ec_8953_2cf0ee2ac6f2row2_col1,#T_c667b26a_d92e_11ec_8953_2cf0ee2ac6f2row3_col1{\n",
       "            background-color:  #f0f921;\n",
       "            color:  #000000;\n",
       "        }#T_c667b26a_d92e_11ec_8953_2cf0ee2ac6f2row0_col1,#T_c667b26a_d92e_11ec_8953_2cf0ee2ac6f2row1_col0,#T_c667b26a_d92e_11ec_8953_2cf0ee2ac6f2row1_col1,#T_c667b26a_d92e_11ec_8953_2cf0ee2ac6f2row3_col0,#T_c667b26a_d92e_11ec_8953_2cf0ee2ac6f2row3_col2{\n",
       "            background-color:  #0d0887;\n",
       "            color:  #f1f1f1;\n",
       "        }#T_c667b26a_d92e_11ec_8953_2cf0ee2ac6f2row1_col2{\n",
       "            background-color:  #bd3786;\n",
       "            color:  #f1f1f1;\n",
       "        }#T_c667b26a_d92e_11ec_8953_2cf0ee2ac6f2row2_col2{\n",
       "            background-color:  #4e02a2;\n",
       "            color:  #f1f1f1;\n",
       "        }</style><table id=\"T_c667b26a_d92e_11ec_8953_2cf0ee2ac6f2\" ><thead>    <tr>        <th class=\"blank level0\" ></th>        <th class=\"col_heading level0 col0\" >sex</th>        <th class=\"col_heading level0 col1\" >fbs</th>        <th class=\"col_heading level0 col2\" >target</th>    </tr></thead><tbody>\n",
       "                <tr>\n",
       "                        <th id=\"T_c667b26a_d92e_11ec_8953_2cf0ee2ac6f2level0_row0\" class=\"row_heading level0 row0\" >2</th>\n",
       "                        <td id=\"T_c667b26a_d92e_11ec_8953_2cf0ee2ac6f2row0_col0\" class=\"data row0 col0\" >1</td>\n",
       "                        <td id=\"T_c667b26a_d92e_11ec_8953_2cf0ee2ac6f2row0_col1\" class=\"data row0 col1\" >0</td>\n",
       "                        <td id=\"T_c667b26a_d92e_11ec_8953_2cf0ee2ac6f2row0_col2\" class=\"data row0 col2\" >174</td>\n",
       "            </tr>\n",
       "            <tr>\n",
       "                        <th id=\"T_c667b26a_d92e_11ec_8953_2cf0ee2ac6f2level0_row1\" class=\"row_heading level0 row1\" >0</th>\n",
       "                        <td id=\"T_c667b26a_d92e_11ec_8953_2cf0ee2ac6f2row1_col0\" class=\"data row1 col0\" >0</td>\n",
       "                        <td id=\"T_c667b26a_d92e_11ec_8953_2cf0ee2ac6f2row1_col1\" class=\"data row1 col1\" >0</td>\n",
       "                        <td id=\"T_c667b26a_d92e_11ec_8953_2cf0ee2ac6f2row1_col2\" class=\"data row1 col2\" >84</td>\n",
       "            </tr>\n",
       "            <tr>\n",
       "                        <th id=\"T_c667b26a_d92e_11ec_8953_2cf0ee2ac6f2level0_row2\" class=\"row_heading level0 row2\" >3</th>\n",
       "                        <td id=\"T_c667b26a_d92e_11ec_8953_2cf0ee2ac6f2row2_col0\" class=\"data row2 col0\" >1</td>\n",
       "                        <td id=\"T_c667b26a_d92e_11ec_8953_2cf0ee2ac6f2row2_col1\" class=\"data row2 col1\" >1</td>\n",
       "                        <td id=\"T_c667b26a_d92e_11ec_8953_2cf0ee2ac6f2row2_col2\" class=\"data row2 col2\" >33</td>\n",
       "            </tr>\n",
       "            <tr>\n",
       "                        <th id=\"T_c667b26a_d92e_11ec_8953_2cf0ee2ac6f2level0_row3\" class=\"row_heading level0 row3\" >1</th>\n",
       "                        <td id=\"T_c667b26a_d92e_11ec_8953_2cf0ee2ac6f2row3_col0\" class=\"data row3 col0\" >0</td>\n",
       "                        <td id=\"T_c667b26a_d92e_11ec_8953_2cf0ee2ac6f2row3_col1\" class=\"data row3 col1\" >1</td>\n",
       "                        <td id=\"T_c667b26a_d92e_11ec_8953_2cf0ee2ac6f2row3_col2\" class=\"data row3 col2\" >12</td>\n",
       "            </tr>\n",
       "    </tbody></table>"
      ],
      "text/plain": [
       "<pandas.io.formats.style.Styler at 0x7fc7d0e397f0>"
      ]
     },
     "execution_count": 33,
     "metadata": {},
     "output_type": "execute_result"
    }
   ],
   "source": [
    "dataset_Sex_fbs = dataset.groupby(['sex','fbs'])['target'].count().reset_index().sort_values(by='target',ascending=False)\n",
    "dataset_Sex_fbs.head(5).style.background_gradient(cmap='plasma')"
   ]
  },
  {
   "cell_type": "markdown",
   "metadata": {},
   "source": [
    "It is observed that men with fasting blood sugar value of 0 are most prone to heart attack, while females with fbs value 0 comes second."
   ]
  },
  {
   "cell_type": "markdown",
   "metadata": {},
   "source": [
    "### Now lets look at the correlation between these 13 features"
   ]
  },
  {
   "cell_type": "code",
   "execution_count": 34,
   "metadata": {},
   "outputs": [
    {
     "data": {
      "image/png": "[encoded data removed]",
      "text/plain": [
       "<Figure size 1080x720 with 2 Axes>"
      ]
     },
     "metadata": {
      "needs_background": "light"
     },
     "output_type": "display_data"
    }
   ],
   "source": [
    "plt.figure(figsize=(15,10))\n",
    "sns.heatmap(dataset.corr(),cmap=\"YlGnBu\", annot=True, linewidth=0.2)\n",
    "plt.title(\"Correlation Matrix\")\n",
    "plt.show()"
   ]
  },
  {
   "cell_type": "markdown",
   "metadata": {},
   "source": [
    "#### Let's look at the correlation with the target value"
   ]
  },
  {
   "cell_type": "code",
   "execution_count": 35,
   "metadata": {},
   "outputs": [
    {
     "data": {
      "text/plain": [
       "target      1.000000\n",
       "cp          0.433798\n",
       "thalach     0.421741\n",
       "slope       0.345877\n",
       "restecg     0.137230\n",
       "fbs        -0.028046\n",
       "chol       -0.085239\n",
       "trestbps   -0.144931\n",
       "age        -0.225439\n",
       "sex        -0.280937\n",
       "thal       -0.344029\n",
       "ca         -0.391724\n",
       "oldpeak    -0.430696\n",
       "exang      -0.436757\n",
       "Name: target, dtype: float64"
      ]
     },
     "execution_count": 35,
     "metadata": {},
     "output_type": "execute_result"
    }
   ],
   "source": [
    "dataset.corr()['target'].sort_values(ascending=False)"
   ]
  },
  {
   "cell_type": "code",
   "execution_count": 36,
   "metadata": {},
   "outputs": [
    {
     "data": {
      "image/png": "[encoded data removed]",
      "text/plain": [
       "<Figure size 864x576 with 1 Axes>"
      ]
     },
     "metadata": {
      "needs_background": "light"
     },
     "output_type": "display_data"
    }
   ],
   "source": [
    "a = dataset.drop('target', axis=1)\n",
    "a.corrwith(dataset.target).plot(kind='bar', grid=True, figsize=(12, 8), color=['gold'])\n",
    "plt.title(\"Correlation with target\", size=22)\n",
    "plt.xticks(size=20)\n",
    "plt.yticks(size=16)\n",
    "plt.show()"
   ]
  },
  {
   "cell_type": "markdown",
   "metadata": {},
   "source": [
    "Cholestrol and Fasting blood sugar are least related with the target value where as Chest pain and Maximum heart rate have significant correlation."
   ]
  },
  {
   "cell_type": "markdown",
   "metadata": {},
   "source": [
    "### Outliers in the data"
   ]
  },
  {
   "cell_type": "code",
   "execution_count": 37,
   "metadata": {},
   "outputs": [
    {
     "data": {
      "image/png": "[encoded data removed]",
      "text/plain": [
       "<Figure size 864x648 with 1 Axes>"
      ]
     },
     "metadata": {
      "needs_background": "light"
     },
     "output_type": "display_data"
    }
   ],
   "source": [
    "plt.figure(figsize=(12,9))\n",
    "sns.boxplot(data=dataset)\n",
    "\n",
    "plt.title(\"Outliers\",size=22)\n",
    "\n",
    "plt.xticks(fontsize=12)\n",
    "plt.yticks(fontsize=16)\n",
    "\n",
    "plt.show()"
   ]
  },
  {
   "cell_type": "code",
   "execution_count": 38,
   "metadata": {},
   "outputs": [],
   "source": [
    "target = dataset['target']\n",
    "detail = dataset.drop('target',axis=1)"
   ]
  },
  {
   "cell_type": "code",
   "execution_count": 39,
   "metadata": {},
   "outputs": [
    {
     "data": {
      "text/html": [
       "<div>\n",
       "<style scoped>\n",
       "    .dataframe tbody tr th:only-of-type {\n",
       "        vertical-align: middle;\n",
       "    }\n",
       "\n",
       "    .dataframe tbody tr th {\n",
       "        vertical-align: top;\n",
       "    }\n",
       "\n",
       "    .dataframe thead th {\n",
       "        text-align: right;\n",
       "    }\n",
       "</style>\n",
       "<table border=\"1\" class=\"dataframe\">\n",
       "  <thead>\n",
       "    <tr style=\"text-align: right;\">\n",
       "      <th></th>\n",
       "      <th>age</th>\n",
       "      <th>sex</th>\n",
       "      <th>cp</th>\n",
       "      <th>trestbps</th>\n",
       "      <th>chol</th>\n",
       "      <th>fbs</th>\n",
       "      <th>restecg</th>\n",
       "      <th>thalach</th>\n",
       "      <th>exang</th>\n",
       "      <th>oldpeak</th>\n",
       "      <th>slope</th>\n",
       "      <th>ca</th>\n",
       "      <th>thal</th>\n",
       "    </tr>\n",
       "  </thead>\n",
       "  <tbody>\n",
       "    <tr>\n",
       "      <th>0</th>\n",
       "      <td>63</td>\n",
       "      <td>1</td>\n",
       "      <td>3</td>\n",
       "      <td>145</td>\n",
       "      <td>233</td>\n",
       "      <td>1</td>\n",
       "      <td>0</td>\n",
       "      <td>150</td>\n",
       "      <td>0</td>\n",
       "      <td>2.3</td>\n",
       "      <td>0</td>\n",
       "      <td>0</td>\n",
       "      <td>1</td>\n",
       "    </tr>\n",
       "    <tr>\n",
       "      <th>1</th>\n",
       "      <td>37</td>\n",
       "      <td>1</td>\n",
       "      <td>2</td>\n",
       "      <td>130</td>\n",
       "      <td>250</td>\n",
       "      <td>0</td>\n",
       "      <td>1</td>\n",
       "      <td>187</td>\n",
       "      <td>0</td>\n",
       "      <td>3.5</td>\n",
       "      <td>0</td>\n",
       "      <td>0</td>\n",
       "      <td>2</td>\n",
       "    </tr>\n",
       "    <tr>\n",
       "      <th>2</th>\n",
       "      <td>41</td>\n",
       "      <td>0</td>\n",
       "      <td>1</td>\n",
       "      <td>130</td>\n",
       "      <td>204</td>\n",
       "      <td>0</td>\n",
       "      <td>0</td>\n",
       "      <td>172</td>\n",
       "      <td>0</td>\n",
       "      <td>1.4</td>\n",
       "      <td>2</td>\n",
       "      <td>0</td>\n",
       "      <td>2</td>\n",
       "    </tr>\n",
       "    <tr>\n",
       "      <th>3</th>\n",
       "      <td>56</td>\n",
       "      <td>1</td>\n",
       "      <td>1</td>\n",
       "      <td>120</td>\n",
       "      <td>236</td>\n",
       "      <td>0</td>\n",
       "      <td>1</td>\n",
       "      <td>178</td>\n",
       "      <td>0</td>\n",
       "      <td>0.8</td>\n",
       "      <td>2</td>\n",
       "      <td>0</td>\n",
       "      <td>2</td>\n",
       "    </tr>\n",
       "    <tr>\n",
       "      <th>4</th>\n",
       "      <td>57</td>\n",
       "      <td>0</td>\n",
       "      <td>0</td>\n",
       "      <td>120</td>\n",
       "      <td>354</td>\n",
       "      <td>0</td>\n",
       "      <td>1</td>\n",
       "      <td>163</td>\n",
       "      <td>1</td>\n",
       "      <td>0.6</td>\n",
       "      <td>2</td>\n",
       "      <td>0</td>\n",
       "      <td>2</td>\n",
       "    </tr>\n",
       "  </tbody>\n",
       "</table>\n",
       "</div>"
      ],
      "text/plain": [
       "   age  sex  cp  trestbps  chol  fbs  restecg  thalach  exang  oldpeak  slope  \\\n",
       "0   63    1   3       145   233    1        0      150      0      2.3      0   \n",
       "1   37    1   2       130   250    0        1      187      0      3.5      0   \n",
       "2   41    0   1       130   204    0        0      172      0      1.4      2   \n",
       "3   56    1   1       120   236    0        1      178      0      0.8      2   \n",
       "4   57    0   0       120   354    0        1      163      1      0.6      2   \n",
       "\n",
       "   ca  thal  \n",
       "0   0     1  \n",
       "1   0     2  \n",
       "2   0     2  \n",
       "3   0     2  \n",
       "4   0     2  "
      ]
     },
     "execution_count": 39,
     "metadata": {},
     "output_type": "execute_result"
    }
   ],
   "source": [
    "detail.head()"
   ]
  },
  {
   "cell_type": "markdown",
   "metadata": {},
   "source": [
    "## Machine Learning"
   ]
  },
  {
   "cell_type": "markdown",
   "metadata": {},
   "source": [
    "Now we will split the data into training and testing datasets. After that, we'll apply the Machine learning models."
   ]
  },
  {
   "cell_type": "code",
   "execution_count": 40,
   "metadata": {},
   "outputs": [],
   "source": [
    "X_train, X_test, y_train, y_test = train_test_split(detail, target, test_size=0.3)"
   ]
  },
  {
   "cell_type": "markdown",
   "metadata": {},
   "source": [
    "### 1. Logistic Regression"
   ]
  },
  {
   "cell_type": "code",
   "execution_count": 41,
   "metadata": {},
   "outputs": [
    {
     "name": "stderr",
     "output_type": "stream",
     "text": [
      "/Users/shashikantbinhan/opt/anaconda3/lib/python3.8/site-packages/sklearn/linear_model/_logistic.py:762: ConvergenceWarning: lbfgs failed to converge (status=1):\n",
      "STOP: TOTAL NO. of ITERATIONS REACHED LIMIT.\n",
      "\n",
      "Increase the number of iterations (max_iter) or scale the data as shown in:\n",
      "    https://scikit-learn.org/stable/modules/preprocessing.html\n",
      "Please also refer to the documentation for alternative solver options:\n",
      "    https://scikit-learn.org/stable/modules/linear_model.html#logistic-regression\n",
      "  n_iter_i = _check_optimize_result(\n"
     ]
    }
   ],
   "source": [
    "LR=LogisticRegression()\n",
    "LR.fit(X_train,y_train)\n",
    "Prediction1=LR.predict(X_test)"
   ]
  },
  {
   "cell_type": "code",
   "execution_count": 42,
   "metadata": {},
   "outputs": [
    {
     "data": {
      "text/plain": [
       "array([1, 0, 0, 0, 1, 1, 1, 0, 1, 1, 0, 0, 1, 0, 0, 1, 1, 0, 0, 0, 1, 1,\n",
       "       0, 1, 1, 1, 1, 1, 1, 1, 0, 1, 0, 1, 0, 0, 1, 0, 0, 1, 0, 1, 1, 1,\n",
       "       1, 0, 1, 0, 1, 1, 1, 1, 1, 0, 1, 0, 1, 0, 0, 1, 1, 1, 1, 0, 0, 1,\n",
       "       1, 0, 0, 1, 1, 1, 0, 1, 0, 0, 0, 1, 1, 1, 0, 1, 0, 0, 0, 1, 1, 0,\n",
       "       1, 1, 0])"
      ]
     },
     "execution_count": 42,
     "metadata": {},
     "output_type": "execute_result"
    }
   ],
   "source": [
    "np.array(y_test)"
   ]
  },
  {
   "cell_type": "code",
   "execution_count": 43,
   "metadata": {},
   "outputs": [
    {
     "data": {
      "text/plain": [
       "array([1, 1, 0, 0, 1, 1, 0, 1, 1, 1, 0, 1, 1, 0, 0, 1, 1, 0, 0, 0, 1, 1,\n",
       "       0, 1, 0, 1, 1, 1, 1, 1, 0, 1, 0, 1, 0, 1, 1, 0, 0, 1, 0, 1, 1, 1,\n",
       "       1, 0, 1, 0, 1, 1, 0, 1, 1, 0, 1, 0, 0, 0, 0, 1, 1, 1, 1, 0, 0, 1,\n",
       "       1, 0, 1, 1, 0, 1, 0, 1, 0, 0, 0, 1, 1, 1, 0, 1, 0, 1, 0, 1, 1, 1,\n",
       "       1, 1, 0])"
      ]
     },
     "execution_count": 43,
     "metadata": {},
     "output_type": "execute_result"
    }
   ],
   "source": [
    "Prediction1"
   ]
  },
  {
   "cell_type": "code",
   "execution_count": 44,
   "metadata": {},
   "outputs": [
    {
     "name": "stdout",
     "output_type": "stream",
     "text": [
      "              precision    recall  f1-score   support\n",
      "\n",
      "           0       0.86      0.82      0.84        39\n",
      "           1       0.87      0.90      0.89        52\n",
      "\n",
      "    accuracy                           0.87        91\n",
      "   macro avg       0.87      0.86      0.86        91\n",
      "weighted avg       0.87      0.87      0.87        91\n",
      "\n"
     ]
    }
   ],
   "source": [
    "print(classification_report(y_test,Prediction1))"
   ]
  },
  {
   "cell_type": "code",
   "execution_count": 45,
   "metadata": {},
   "outputs": [
    {
     "name": "stdout",
     "output_type": "stream",
     "text": [
      "[[32  7]\n",
      " [ 5 47]]\n"
     ]
    }
   ],
   "source": [
    "print(confusion_matrix(y_test,Prediction1))"
   ]
  },
  {
   "cell_type": "markdown",
   "metadata": {},
   "source": [
    "### 2. Random Forest "
   ]
  },
  {
   "cell_type": "code",
   "execution_count": 46,
   "metadata": {},
   "outputs": [],
   "source": [
    "from sklearn.ensemble import RandomForestClassifier"
   ]
  },
  {
   "cell_type": "code",
   "execution_count": 47,
   "metadata": {},
   "outputs": [],
   "source": [
    "RFC=RandomForestClassifier()\n",
    "RFC.fit(X_train,y_train)\n",
    "Prediction2=RFC.predict(X_test)"
   ]
  },
  {
   "cell_type": "code",
   "execution_count": 48,
   "metadata": {},
   "outputs": [
    {
     "data": {
      "text/plain": [
       "array([1, 0, 0, 0, 1, 1, 1, 0, 1, 1, 0, 0, 1, 0, 0, 1, 1, 0, 0, 0, 1, 1,\n",
       "       0, 1, 1, 1, 1, 1, 1, 1, 0, 1, 0, 1, 0, 0, 1, 0, 0, 1, 0, 1, 1, 1,\n",
       "       1, 0, 1, 0, 1, 1, 1, 1, 1, 0, 1, 0, 1, 0, 0, 1, 1, 1, 1, 0, 0, 1,\n",
       "       1, 0, 0, 1, 1, 1, 0, 1, 0, 0, 0, 1, 1, 1, 0, 1, 0, 0, 0, 1, 1, 0,\n",
       "       1, 1, 0])"
      ]
     },
     "execution_count": 48,
     "metadata": {},
     "output_type": "execute_result"
    }
   ],
   "source": [
    "np.array(y_test)"
   ]
  },
  {
   "cell_type": "code",
   "execution_count": 49,
   "metadata": {},
   "outputs": [
    {
     "data": {
      "text/plain": [
       "array([1, 1, 0, 0, 1, 1, 0, 1, 1, 1, 0, 0, 1, 0, 0, 1, 1, 0, 0, 0, 1, 1,\n",
       "       0, 1, 1, 1, 1, 1, 1, 0, 0, 1, 0, 1, 0, 1, 1, 0, 0, 1, 0, 1, 1, 1,\n",
       "       1, 0, 1, 0, 1, 1, 0, 1, 1, 0, 1, 0, 0, 0, 0, 1, 1, 1, 1, 0, 0, 1,\n",
       "       1, 0, 1, 1, 1, 1, 0, 1, 0, 0, 0, 1, 1, 1, 0, 1, 0, 1, 0, 1, 0, 1,\n",
       "       1, 1, 0])"
      ]
     },
     "execution_count": 49,
     "metadata": {},
     "output_type": "execute_result"
    }
   ],
   "source": [
    "Prediction2"
   ]
  },
  {
   "cell_type": "code",
   "execution_count": 50,
   "metadata": {},
   "outputs": [
    {
     "name": "stdout",
     "output_type": "stream",
     "text": [
      "              precision    recall  f1-score   support\n",
      "\n",
      "           0       0.87      0.85      0.86        39\n",
      "           1       0.89      0.90      0.90        52\n",
      "\n",
      "    accuracy                           0.88        91\n",
      "   macro avg       0.88      0.88      0.88        91\n",
      "weighted avg       0.88      0.88      0.88        91\n",
      "\n"
     ]
    }
   ],
   "source": [
    "print(classification_report(y_test,Prediction2))"
   ]
  },
  {
   "cell_type": "code",
   "execution_count": 51,
   "metadata": {},
   "outputs": [
    {
     "name": "stdout",
     "output_type": "stream",
     "text": [
      "[[33  6]\n",
      " [ 5 47]]\n"
     ]
    }
   ],
   "source": [
    "print(confusion_matrix(y_test,Prediction2))"
   ]
  },
  {
   "cell_type": "markdown",
   "metadata": {},
   "source": [
    "### 3. K Nearest Neighbours"
   ]
  },
  {
   "cell_type": "code",
   "execution_count": 52,
   "metadata": {},
   "outputs": [],
   "source": [
    "from sklearn.neighbors import KNeighborsClassifier"
   ]
  },
  {
   "cell_type": "code",
   "execution_count": 53,
   "metadata": {},
   "outputs": [],
   "source": [
    "KNN = KNeighborsClassifier()\n",
    "KNN.fit(X_train,y_train)\n",
    "Prediction3=KNN.predict(X_test)"
   ]
  },
  {
   "cell_type": "code",
   "execution_count": 54,
   "metadata": {},
   "outputs": [
    {
     "data": {
      "text/plain": [
       "array([1, 0, 0, 0, 1, 1, 1, 0, 1, 1, 0, 0, 1, 0, 0, 1, 1, 0, 0, 0, 1, 1,\n",
       "       0, 1, 1, 1, 1, 1, 1, 1, 0, 1, 0, 1, 0, 0, 1, 0, 0, 1, 0, 1, 1, 1,\n",
       "       1, 0, 1, 0, 1, 1, 1, 1, 1, 0, 1, 0, 1, 0, 0, 1, 1, 1, 1, 0, 0, 1,\n",
       "       1, 0, 0, 1, 1, 1, 0, 1, 0, 0, 0, 1, 1, 1, 0, 1, 0, 0, 0, 1, 1, 0,\n",
       "       1, 1, 0])"
      ]
     },
     "execution_count": 54,
     "metadata": {},
     "output_type": "execute_result"
    }
   ],
   "source": [
    "np.array(y_test)"
   ]
  },
  {
   "cell_type": "code",
   "execution_count": 55,
   "metadata": {},
   "outputs": [
    {
     "data": {
      "text/plain": [
       "array([1, 1, 0, 0, 1, 1, 0, 1, 1, 0, 0, 0, 1, 1, 0, 1, 1, 0, 1, 0, 1, 0,\n",
       "       1, 1, 1, 1, 0, 1, 1, 1, 1, 1, 0, 1, 0, 0, 0, 0, 1, 1, 0, 1, 1, 1,\n",
       "       0, 0, 0, 0, 1, 1, 1, 1, 1, 0, 1, 0, 0, 0, 0, 1, 1, 0, 0, 0, 1, 1,\n",
       "       1, 0, 1, 1, 1, 1, 0, 1, 0, 1, 0, 0, 1, 1, 0, 1, 0, 1, 0, 1, 0, 1,\n",
       "       0, 1, 0])"
      ]
     },
     "execution_count": 55,
     "metadata": {},
     "output_type": "execute_result"
    }
   ],
   "source": [
    "Prediction3"
   ]
  },
  {
   "cell_type": "code",
   "execution_count": 56,
   "metadata": {},
   "outputs": [
    {
     "name": "stdout",
     "output_type": "stream",
     "text": [
      "              precision    recall  f1-score   support\n",
      "\n",
      "           0       0.68      0.69      0.68        39\n",
      "           1       0.76      0.75      0.76        52\n",
      "\n",
      "    accuracy                           0.73        91\n",
      "   macro avg       0.72      0.72      0.72        91\n",
      "weighted avg       0.73      0.73      0.73        91\n",
      "\n"
     ]
    }
   ],
   "source": [
    "print(classification_report(y_test,Prediction3))"
   ]
  },
  {
   "cell_type": "code",
   "execution_count": 57,
   "metadata": {},
   "outputs": [
    {
     "name": "stdout",
     "output_type": "stream",
     "text": [
      "[[27 12]\n",
      " [13 39]]\n"
     ]
    }
   ],
   "source": [
    "print(confusion_matrix(y_test,Prediction3))"
   ]
  },
  {
   "cell_type": "markdown",
   "metadata": {},
   "source": [
    "### 4. Support Vector Classifier"
   ]
  },
  {
   "cell_type": "code",
   "execution_count": 58,
   "metadata": {},
   "outputs": [],
   "source": [
    "from sklearn.svm import SVC"
   ]
  },
  {
   "cell_type": "code",
   "execution_count": 59,
   "metadata": {},
   "outputs": [],
   "source": [
    "SV=SVC()\n",
    "SV.fit(X_train,y_train)\n",
    "Prediction4=SV.predict(X_test)"
   ]
  },
  {
   "cell_type": "code",
   "execution_count": 60,
   "metadata": {},
   "outputs": [
    {
     "data": {
      "text/plain": [
       "array([1, 0, 0, 0, 1, 1, 1, 0, 1, 1, 0, 0, 1, 0, 0, 1, 1, 0, 0, 0, 1, 1,\n",
       "       0, 1, 1, 1, 1, 1, 1, 1, 0, 1, 0, 1, 0, 0, 1, 0, 0, 1, 0, 1, 1, 1,\n",
       "       1, 0, 1, 0, 1, 1, 1, 1, 1, 0, 1, 0, 1, 0, 0, 1, 1, 1, 1, 0, 0, 1,\n",
       "       1, 0, 0, 1, 1, 1, 0, 1, 0, 0, 0, 1, 1, 1, 0, 1, 0, 0, 0, 1, 1, 0,\n",
       "       1, 1, 0])"
      ]
     },
     "execution_count": 60,
     "metadata": {},
     "output_type": "execute_result"
    }
   ],
   "source": [
    "np.array(y_test)"
   ]
  },
  {
   "cell_type": "code",
   "execution_count": 61,
   "metadata": {},
   "outputs": [
    {
     "data": {
      "text/plain": [
       "array([1, 1, 1, 1, 1, 1, 1, 0, 1, 1, 1, 0, 1, 1, 0, 1, 1, 0, 1, 0, 1, 0,\n",
       "       0, 1, 1, 1, 0, 1, 1, 0, 1, 1, 0, 1, 0, 1, 1, 0, 1, 1, 1, 1, 1, 1,\n",
       "       1, 0, 1, 0, 1, 1, 1, 1, 1, 0, 1, 1, 1, 0, 0, 1, 1, 0, 0, 0, 1, 1,\n",
       "       1, 0, 1, 1, 1, 1, 0, 1, 0, 1, 1, 1, 1, 1, 0, 1, 1, 1, 0, 1, 1, 1,\n",
       "       1, 1, 0])"
      ]
     },
     "execution_count": 61,
     "metadata": {},
     "output_type": "execute_result"
    }
   ],
   "source": [
    "Prediction4"
   ]
  },
  {
   "cell_type": "code",
   "execution_count": 62,
   "metadata": {},
   "outputs": [
    {
     "name": "stdout",
     "output_type": "stream",
     "text": [
      "              precision    recall  f1-score   support\n",
      "\n",
      "           0       0.81      0.54      0.65        39\n",
      "           1       0.72      0.90      0.80        52\n",
      "\n",
      "    accuracy                           0.75        91\n",
      "   macro avg       0.77      0.72      0.72        91\n",
      "weighted avg       0.76      0.75      0.74        91\n",
      "\n"
     ]
    }
   ],
   "source": [
    "print(classification_report(y_test,Prediction4))"
   ]
  },
  {
   "cell_type": "code",
   "execution_count": 63,
   "metadata": {},
   "outputs": [
    {
     "name": "stdout",
     "output_type": "stream",
     "text": [
      "[[21 18]\n",
      " [ 5 47]]\n"
     ]
    }
   ],
   "source": [
    "print(confusion_matrix(y_test,Prediction4))"
   ]
  },
  {
   "cell_type": "markdown",
   "metadata": {},
   "source": [
    "# Conclusion"
   ]
  },
  {
   "cell_type": "markdown",
   "metadata": {},
   "source": [
    "The objective of this project was to build a machine learning model to make predictions on whether a person is suffering from heart disease or not. After importing the data, we analysed it using plots. We generated dummy variables for categorical features and scaled other features and then applied the Machine Learning Algorithms. By varying parameters across models we obtained the following inferences:\n",
    "\n",
    "| Algorithm                 | Accuracy | F1 Score |\n",
    "| ------------------------- | -------- | -------- |\n",
    "| Logistic Regression       |   84.0%  |   0.88   |  \n",
    "| Random Forest             |   84.0%  |   0.85   |\n",
    "| K Nearest Neighbors       |   56.0%  |   0.56   |\n",
    "| Support Vector Classifier |   83.0%  |   0.83   |"
   ]
  },
  {
   "cell_type": "markdown",
   "metadata": {},
   "source": [
    "Logistic regression and Random Forest classifier have the highest accuracy of 84%, followed by Support Vector Classifier and we should go for these tests over KNN."
   ]
  },
  {
   "cell_type": "markdown",
   "metadata": {},
   "source": [
    "# DASHBOARD"
   ]
  },
  {
   "cell_type": "code",
   "execution_count": 64,
   "metadata": {},
   "outputs": [],
   "source": [
    "# Enter filters "
   ]
  },
  {
   "cell_type": "code",
   "execution_count": 65,
   "metadata": {},
   "outputs": [
    {
     "name": "stdout",
     "output_type": "stream",
     "text": [
      "Filter for Gender (Enter M=Male, F=Female and B for both): M\n",
      "Filter for High/Low Blood Sugar Patients (Enter H=High, L=Low and B for both): H\n"
     ]
    },
    {
     "data": {
      "text/plain": [
       "[Text(0.5, 70.0, 'Number of Vessles colored by flurosopy'),\n",
       " Text(700.8235294117648, 0.5, '# Patients'),\n",
       " Text(0.5, 1.0, 'Distribution of Patients wrt to #Vessels colored by flurosopy')]"
      ]
     },
     "execution_count": 65,
     "metadata": {},
     "output_type": "execute_result"
    },
    {
     "data": {
      "image/png": "[encoded data removed]",
      "text/plain": [
       "<Figure size 1080x720 with 9 Axes>"
      ]
     },
     "metadata": {},
     "output_type": "display_data"
    }
   ],
   "source": [
    "gender_filter = input(\"Filter for Gender (Enter M=Male, F=Female and B for both): \")\n",
    "if gender_filter.upper() == 'M':\n",
    "    dataset1 = dataset[dataset.sex ==1]\n",
    "elif gender_filter.upper() == 'F':\n",
    "    dataset1 = dataset[dataset.sex ==0]\n",
    "elif gender_filter.upper() == 'B':\n",
    "    dataset1 = dataset\n",
    "else:\n",
    "    print(\"Wrong choice\")\n",
    "\n",
    "fasting_filter = input(\"Filter for High/Low Blood Sugar Patients (Enter H=High, L=Low and B for both): \")\n",
    "if fasting_filter.upper() == 'H':\n",
    "    dataset1 = dataset1[dataset1.fbs ==1]\n",
    "elif fasting_filter.upper() == 'L':\n",
    "    dataset1 = dataset1[dataset1.fbs ==0]\n",
    "elif fasting_filter.upper() == 'B':\n",
    "    dataset1 = dataset1\n",
    "else:\n",
    "    print(\"Wrong choice\")\n",
    "    \n",
    "sns.set_style('dark')\n",
    "\n",
    "fig1, ax = plt.subplots(3,3, figsize = (15,10))\n",
    "fig1.tight_layout(pad=3)\n",
    "\n",
    "ax[0,0].axis('off')\n",
    "ax[0,2].axis('off')\n",
    "\n",
    "fig1.suptitle(\"Dashboard\", fontsize = 32, y = 1.03)\n",
    "    \n",
    "ax[0,1].pie(dataset1.groupby(target).target.count(), colors = ['g','r'], labels = ['No diease','Heart Diesease'], explode = [0,0.2] )\n",
    "\n",
    "sns.countplot(x='sex', data=dataset1, palette='Paired', ax = ax[1,0])\n",
    "ax[1,0].set(xlabel ='Gender', ylabel = '# Patients', title = 'Gender Distribution' )\n",
    "\n",
    "sns.countplot(x='cp', data=dataset1, palette='Set2', ax = ax[1,1])\n",
    "ax[1,1].set(xlabel ='Chest Pain Type Level', ylabel = '# Patients', title = 'Patients with different types of chest pains' )\n",
    "\n",
    "sns.countplot(x='fbs', data=dataset1, palette=\"hls\", ax=ax[1,2])\n",
    "ax[1,2].set(xlabel ='Fasting Blood Sugar > 120', ylabel = '# Patients', title = 'Fasting Blood Sugar levels')\n",
    "\n",
    "sns.countplot(x='restecg', data=dataset1, palette='viridis', ax = ax[2,0])\n",
    "ax[2,0].set(xlabel ='Resting Electric Cardiogram Results', ylabel = '# Patients', title = 'Patients with different Electro-Cardiograms')\n",
    "\n",
    "sns.countplot(x='exang', data=dataset1, palette='viridis', ax = ax[2,1])\n",
    "ax[2,1].set(xlabel ='Excercise induced angina', ylabel = '# Patients', title = 'Patients with Excercise Induced Angina ')\n",
    "\n",
    "sns.countplot(x='ca', data=dataset1, palette='viridis',ax=ax[2,2])\n",
    "ax[2,2].set(xlabel ='Number of Vessles colored by flurosopy', ylabel = '# Patients', title = 'Distribution of Patients wrt to #Vessels colored by flurosopy')"
   ]
  },
  {
   "cell_type": "code",
   "execution_count": null,
   "metadata": {},
   "outputs": [],
   "source": []
  }
 ],
 "metadata": {
  "kernelspec": {
   "display_name": "Python 3",
   "language": "python",
   "name": "python3"
  },
  "language_info": {
   "codemirror_mode": {
    "name": "ipython",
    "version": 3
   },
   "file_extension": ".py",
   "mimetype": "text/x-python",
   "name": "python",
   "nbconvert_exporter": "python",
   "pygments_lexer": "ipython3",
   "version": "3.8.5"
  }
 },
 "nbformat": 4,
 "nbformat_minor": 4
}
